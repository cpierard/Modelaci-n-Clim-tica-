{
 "cells": [
  {
   "cell_type": "code",
   "execution_count": 2,
   "metadata": {
    "collapsed": true
   },
   "outputs": [],
   "source": [
    "using PyPlot\n",
    "using DataFrames\n",
    "using PyCall\n",
    "@pyimport matplotlib.animation as anim  "
   ]
  },
  {
   "cell_type": "code",
   "execution_count": 3,
   "metadata": {
    "collapsed": false
   },
   "outputs": [
    {
     "data": {
      "text/plain": [
       "muestra_animacion (generic function with 1 method)"
      ]
     },
     "execution_count": 3,
     "metadata": {},
     "output_type": "execute_result"
    }
   ],
   "source": [
    "function anima(x, y2,edos, nombre::ASCIIString)\n",
    "    fig = figure(figsize=(5,5))\n",
    "    cuadros = [[plot(x,y2, \"b\"), plot(x,edos[:,i], \"k\")] for i in 1:length(edos[1,:])]\n",
    "    \n",
    "    animacion = anim.ArtistAnimation(fig, cuadros, interval=200, blit=true) \n",
    "    animacion[:save](nombre*\".mp4\", extra_args=[\"-vcodec\", \"libx264\", \"-pix_fmt\", \"yuv420p\"])\n",
    "end\n",
    "\n",
    "function muestra_animacion(nombre::ASCIIString)\n",
    "    display(\"text/html\", string(\"\"\"<video autoplay controls><source src=\"data:video/x-m4v;base64,\"\"\",base64(open(readbytes,nombre*\".mp4\")),\"\"\"\" type=\"video/mp4\"></video>\"\"\"))\n",
    "end"
   ]
  },
  {
   "cell_type": "code",
   "execution_count": 19,
   "metadata": {
    "collapsed": false
   },
   "outputs": [
    {
     "name": "stdout",
     "output_type": "stream",
     "text": [
      "  0.000003 seconds (6 allocations: 624 bytes)\n"
     ]
    }
   ],
   "source": [
    "G = readdlm(\"Greenland_input.txt\", '\\t')\n",
    "x_scale = G[:,1]\n",
    "surface_0 = G[:,3]\n",
    "bedrock = G[:,2]\n",
    "longitud = G[:,4]\n",
    "@time h_old = surface_0 - bedrock;"
   ]
  },
  {
   "cell_type": "code",
   "execution_count": 4,
   "metadata": {
    "collapsed": false
   },
   "outputs": [],
   "source": [
    "#ρ_w = 1028\n",
    "#ρ_m =  3300\n",
    "#θ = 3000\n",
    "#B_0 = 1.928\n",
    "#C = 0.16612\n",
    "#K = 1.17\n",
    "#const n = 3\n",
    "#const p = 3\n",
    "#Q = 78800\n",
    "#R =  8.31\n",
    "#Tr = 280\n",
    "#const g = 9.81"
   ]
  },
  {
   "cell_type": "code",
   "execution_count": 51,
   "metadata": {
    "collapsed": false
   },
   "outputs": [
    {
     "name": "stderr",
     "output_type": "stream",
     "text": [
      "WARNING: Indexing with non-Integer Reals is deprecated.  It may be that your index arose from an integer division of the form i/j, in which case you should consider using i÷j or div(i,j) instead.\n",
      " in depwarn at deprecated.jl:73\n",
      " in to_index at deprecated.jl:447\n",
      " in getindex at array.jl:283\n",
      " [inlined code] from In[51]:150\n",
      " in anonymous at no file:0\n",
      " in include_string at loading.jl:266\n",
      " in execute_request_0x535c5df2 at /Users/claudiopierard/.julia/v0.4/IJulia/src/execute_request.jl:182\n",
      " in eventloop at /Users/claudiopierard/.julia/v0.4/IJulia/src/IJulia.jl:142\n",
      " in anonymous at task.jl:447\n",
      "while loading In[51], in expression starting on line 90\n"
     ]
    },
    {
     "ename": "LoadError",
     "evalue": "LoadError: BoundsError: attempt to access 45x20 Array{Float64,2}:\n 0.0    -0.0      0.0  0.0  0.0  0.0  …  0.0  0.0  0.0  0.0  0.0  0.0  0.0\n 0.0     0.0      0.0  0.0  0.0  0.0     0.0  0.0  0.0  0.0  0.0  0.0  0.0\n 0.0    -0.0      0.0  0.0  0.0  0.0     0.0  0.0  0.0  0.0  0.0  0.0  0.0\n 0.0    -0.0      0.0  0.0  0.0  0.0     0.0  0.0  0.0  0.0  0.0  0.0  0.0\n 0.0    -0.0      0.0  0.0  0.0  0.0     0.0  0.0  0.0  0.0  0.0  0.0  0.0\n 0.0    -0.0      0.0  0.0  0.0  0.0  …  0.0  0.0  0.0  0.0  0.0  0.0  0.0\n 0.0    -0.0      0.0  0.0  0.0  0.0     0.0  0.0  0.0  0.0  0.0  0.0  0.0\n 0.0    -0.0      0.0  0.0  0.0  0.0     0.0  0.0  0.0  0.0  0.0  0.0  0.0\n 0.0    -0.0      0.0  0.0  0.0  0.0     0.0  0.0  0.0  0.0  0.0  0.0  0.0\n 0.0    -0.0      0.0  0.0  0.0  0.0     0.0  0.0  0.0  0.0  0.0  0.0  0.0\n 0.0    -0.0      0.0  0.0  0.0  0.0  …  0.0  0.0  0.0  0.0  0.0  0.0  0.0\n 0.0    -6.09216  0.0  0.0  0.0  0.0     0.0  0.0  0.0  0.0  0.0  0.0  0.0\n 0.0  -109.21     0.0  0.0  0.0  0.0     0.0  0.0  0.0  0.0  0.0  0.0  0.0\n ⋮                               ⋮    ⋱            ⋮                      \n 0.0    13.7407   0.0  0.0  0.0  0.0     0.0  0.0  0.0  0.0  0.0  0.0  0.0\n 0.0    19.1104   0.0  0.0  0.0  0.0     0.0  0.0  0.0  0.0  0.0  0.0  0.0\n 0.0     0.0      0.0  0.0  0.0  0.0  …  0.0  0.0  0.0  0.0  0.0  0.0  0.0\n 0.0     0.0      0.0  0.0  0.0  0.0     0.0  0.0  0.0  0.0  0.0  0.0  0.0\n 0.0    -0.0      0.0  0.0  0.0  0.0     0.0  0.0  0.0  0.0  0.0  0.0  0.0\n 0.0    -0.0      0.0  0.0  0.0  0.0     0.0  0.0  0.0  0.0  0.0  0.0  0.0\n 0.0    -0.0      0.0  0.0  0.0  0.0     0.0  0.0  0.0  0.0  0.0  0.0  0.0\n 0.0     0.0      0.0  0.0  0.0  0.0  …  0.0  0.0  0.0  0.0  0.0  0.0  0.0\n 0.0     0.0      0.0  0.0  0.0  0.0     0.0  0.0  0.0  0.0  0.0  0.0  0.0\n 0.0     0.0      0.0  0.0  0.0  0.0     0.0  0.0  0.0  0.0  0.0  0.0  0.0\n 0.0     0.0      0.0  0.0  0.0  0.0     0.0  0.0  0.0  0.0  0.0  0.0  0.0\n 0.0    -0.0      0.0  0.0  0.0  0.0     0.0  0.0  0.0  0.0  0.0  0.0  0.0\n  at index [2,0]\nwhile loading In[51], in expression starting on line 90",
     "output_type": "error",
     "traceback": [
      "LoadError: BoundsError: attempt to access 45x20 Array{Float64,2}:\n 0.0    -0.0      0.0  0.0  0.0  0.0  …  0.0  0.0  0.0  0.0  0.0  0.0  0.0\n 0.0     0.0      0.0  0.0  0.0  0.0     0.0  0.0  0.0  0.0  0.0  0.0  0.0\n 0.0    -0.0      0.0  0.0  0.0  0.0     0.0  0.0  0.0  0.0  0.0  0.0  0.0\n 0.0    -0.0      0.0  0.0  0.0  0.0     0.0  0.0  0.0  0.0  0.0  0.0  0.0\n 0.0    -0.0      0.0  0.0  0.0  0.0     0.0  0.0  0.0  0.0  0.0  0.0  0.0\n 0.0    -0.0      0.0  0.0  0.0  0.0  …  0.0  0.0  0.0  0.0  0.0  0.0  0.0\n 0.0    -0.0      0.0  0.0  0.0  0.0     0.0  0.0  0.0  0.0  0.0  0.0  0.0\n 0.0    -0.0      0.0  0.0  0.0  0.0     0.0  0.0  0.0  0.0  0.0  0.0  0.0\n 0.0    -0.0      0.0  0.0  0.0  0.0     0.0  0.0  0.0  0.0  0.0  0.0  0.0\n 0.0    -0.0      0.0  0.0  0.0  0.0     0.0  0.0  0.0  0.0  0.0  0.0  0.0\n 0.0    -0.0      0.0  0.0  0.0  0.0  …  0.0  0.0  0.0  0.0  0.0  0.0  0.0\n 0.0    -6.09216  0.0  0.0  0.0  0.0     0.0  0.0  0.0  0.0  0.0  0.0  0.0\n 0.0  -109.21     0.0  0.0  0.0  0.0     0.0  0.0  0.0  0.0  0.0  0.0  0.0\n ⋮                               ⋮    ⋱            ⋮                      \n 0.0    13.7407   0.0  0.0  0.0  0.0     0.0  0.0  0.0  0.0  0.0  0.0  0.0\n 0.0    19.1104   0.0  0.0  0.0  0.0     0.0  0.0  0.0  0.0  0.0  0.0  0.0\n 0.0     0.0      0.0  0.0  0.0  0.0  …  0.0  0.0  0.0  0.0  0.0  0.0  0.0\n 0.0     0.0      0.0  0.0  0.0  0.0     0.0  0.0  0.0  0.0  0.0  0.0  0.0\n 0.0    -0.0      0.0  0.0  0.0  0.0     0.0  0.0  0.0  0.0  0.0  0.0  0.0\n 0.0    -0.0      0.0  0.0  0.0  0.0     0.0  0.0  0.0  0.0  0.0  0.0  0.0\n 0.0    -0.0      0.0  0.0  0.0  0.0     0.0  0.0  0.0  0.0  0.0  0.0  0.0\n 0.0     0.0      0.0  0.0  0.0  0.0  …  0.0  0.0  0.0  0.0  0.0  0.0  0.0\n 0.0     0.0      0.0  0.0  0.0  0.0     0.0  0.0  0.0  0.0  0.0  0.0  0.0\n 0.0     0.0      0.0  0.0  0.0  0.0     0.0  0.0  0.0  0.0  0.0  0.0  0.0\n 0.0     0.0      0.0  0.0  0.0  0.0     0.0  0.0  0.0  0.0  0.0  0.0  0.0\n 0.0    -0.0      0.0  0.0  0.0  0.0     0.0  0.0  0.0  0.0  0.0  0.0  0.0\n  at index [2,0]\nwhile loading In[51], in expression starting on line 90",
      ""
     ]
    }
   ],
   "source": [
    "#function ice_thickness(G::AbstractString, model::AbstractString, T_f, iteraciones)\n",
    "\n",
    "G = \"Greenland_input.txt\"\n",
    "model = \"greenland\"\n",
    "T_f = 0\n",
    "iteraciones = 20\n",
    "\n",
    "#T_f = 0\n",
    "#T_kopp = 0       # 1 para activar, 0 para descativar\n",
    "#basal_sliding = 0  # 1 para activar, 0 para descativar\n",
    "#sea_level = 0\n",
    "\n",
    "    n = 3\n",
    "    p = 3\n",
    "    g = 9.81\n",
    "    T_r = 273.39\n",
    "    Q = 7.88e4\n",
    "    R = 8.31\n",
    "    C = 0.16612\n",
    "    B0 = 2.207\n",
    "    K = 117//100  #así me ahorro un pequeño tiempo. Al parecer Julia tarda menos con potencias enteras.\n",
    "    ρ_i = 910.0\n",
    "    \n",
    "    ########## parámetros Greenland vs Antartica ########\n",
    "    \n",
    "    if model == \"greenland\"\n",
    "\n",
    "        initial_conditions = readdlm(\"Greenland_input.txt\", '\\t')\n",
    "        m_tune = 7.5\n",
    "        dx = 36000\n",
    "        dt = 40\n",
    "        implicit = 1\n",
    "        longitud = initial_conditions[:,4]\n",
    "\n",
    "    elseif model == \"antartica\"\n",
    "\n",
    "        initial_conditions = readdlm(\"Antartic_input.txt\", '\\t')\n",
    "        m_tune = 59\n",
    "        dx = 120000\n",
    "        dt = 200\n",
    "        implicit = 2.5\n",
    "        latitud = initial_conditions[:,4]\n",
    "\n",
    "    end\n",
    "    \n",
    "    #dtdx2 = dt/(2 * dx^2)\n",
    "\n",
    "    x_scale = initial_conditions[:,1]\n",
    "    #surface_0 = initial_conditions[:,3]\n",
    "    #bedrock = initial_conditions[:,2]    \n",
    "    #h_old = surface_0 .- bedrock;       \n",
    "    \n",
    "    T_ma = zeros(45, iteraciones)  # Creé matriz para poder vizualizar el cambio en la temp y B. de masa.\n",
    "    T_ms = zeros(45, iteraciones)\n",
    "    a_abl = zeros(45, iteraciones)\n",
    "    a_acc = zeros(45, iteraciones)\n",
    "    mass_b = zeros(45, iteraciones)\n",
    "    surface = zeros(45, iteraciones)\n",
    "    slope = zeros(45)\n",
    "    τ_d = zeros(45)\n",
    "    \n",
    "    \n",
    "    H = zeros(45, iteraciones) \n",
    "    bedrock = zeros(45, iteraciones)\n",
    "    #surface = zeros(45,iteraciones)   #Al final hay que sumar entrada por entrada de H y bedrock\n",
    "    u_d = zeros(45, iteraciones)\n",
    "    \n",
    "    bedrock[:,1] = initial_conditions[:,2]\n",
    "    H[:,1] = initial_conditions[:,3] - bedrock[:,1]      #Se guarda el espesor del hielo al tiempo cero la resta sin\n",
    "    surface[:,1] = initial_conditions[:,3]                #punto parece ser mas rápida.\n",
    "    \n",
    "    ################# Temepratura del hielo ##############\n",
    "    if T_f < 0\n",
    "        \n",
    "        T = T_f + 263.15\n",
    "        \n",
    "    else\n",
    "        \n",
    "        T = 0.5 * T_f + 263.15\n",
    "        \n",
    "    end\n",
    "    \n",
    "    ################### Relacion de Arrhenius\n",
    "    \n",
    "    A = m_tune * (1/B0)^n * exp(3 * C / (T_r - T)^K - Q / (R * T))  # Tal vez va en el for loop\n",
    "         \n",
    "    \n",
    "    for t in 1:19 ## The big loop. Trateré de hacerlo todo acá, pero por los índices tal vez use dos loops.\n",
    "            \n",
    "        for i in 1:43\n",
    "        \n",
    "                slope[i+1] = (H[i+2,t] + bedrock[i+2,t] - H[i,t] - bedrock[i,t])/(2*dx)\n",
    "            \n",
    "        end\n",
    "            \n",
    "        for i in 1:45\n",
    "        \n",
    "            #Balance de masa. Volverlo a hacer.\n",
    "            \n",
    "            if model == \"antartica\"\n",
    "                \n",
    "                T_ma[i,t] = - 15.15 - 0.012 * surface[i,t] + T_f\n",
    "                T_ms[i,t] = 16.81 - 0.00692 * surface[i,t] - 0.27936 * latitud[i] + T_f\n",
    "                a_acc[i,t] = 2.5 * 2^(T_ma[i,t] / 10)\n",
    "            \n",
    "            elseif model == \"greenland\"\n",
    "                \n",
    "                T_ma[i,t] = - 5.31 - 0.007992 * surface[i,t] + T_f\n",
    "                T_ms[i,t] = 7.29 - 0.006277 * surface[i,t] + T_f\n",
    "                \n",
    "                if T_f > 0\n",
    "                    \n",
    "                    T_star = 0\n",
    "                    \n",
    "                else\n",
    "                    \n",
    "                    T_star = T_f\n",
    "                \n",
    "                end\n",
    "                \n",
    "                a_acc[i,t] = (-2.46257 + 0.1367 * longitud[i] - 0.0016 * longitud[i]^2) *1.0533^T_star\n",
    "                \n",
    "            end\n",
    "            \n",
    "            if T_ms[i,t] >= 0\n",
    "                    \n",
    "                a_abl[i,t] = min(1.4 * T_ms[i,t], 10)\n",
    "                    \n",
    "            else\n",
    "                    \n",
    "                a_abl[i,t] = 0\n",
    "                    \n",
    "            end\n",
    "            \n",
    "            mass_b[i,t] = a_acc[i,t] - a_abl[i,t]    \n",
    "            \n",
    "            τ_d[i] = - ρ_i * g * H[i,t] * slope[i]   #Stress \n",
    "\n",
    "            ################## Velocidad promedio ###############\n",
    "            # U = u_d + u(b)  #pero en este sólo estoy considerando la velocidad horizontal promedio.\n",
    "\n",
    "            u_d[i,t+1] = 2/(n+2) * A * H[i,t] * τ_d[i]^n\n",
    "            \n",
    "        end\n",
    "        \n",
    "        for i in 1:43\n",
    "\n",
    "            H[i+1,t+1] = H[i+1,t] + dt * (mass_b[i+1,t] + H[i+1,t] * (u_d[i+2,t] - u_d[i,t])/(2*dx) + u_d[i+1,t * (H[i+2,t] - H[i,t])/2*dx])\n",
    "             \n",
    "        end            \n",
    "            ##### Bedrock #####\n",
    "            \n",
    "        #bedrock[:,t+1] = bedrock[:,t]\n",
    "            \n",
    "            ####### Surface #########\n",
    "            \n",
    "        #surface[:,t+1] = H[:, t+1] + bedrock[:,t+1]\n",
    "\n",
    "        \n",
    "    end\n",
    "\n",
    "    #surface = H + bedrock\n",
    "\n",
    "    return H\n",
    "\n",
    "#end"
   ]
  },
  {
   "cell_type": "code",
   "execution_count": 52,
   "metadata": {
    "collapsed": false
   },
   "outputs": [
    {
     "data": {
      "image/png": "[encoded data removed]",
      "text/plain": [
       "PyPlot.Figure(PyObject <matplotlib.figure.Figure object at 0x315fd72d0>)"
      ]
     },
     "metadata": {},
     "output_type": "display_data"
    },
    {
     "data": {
      "text/plain": [
       "1-element Array{Any,1}:\n",
       " PyObject <matplotlib.lines.Line2D object at 0x316239310>"
      ]
     },
     "execution_count": 52,
     "metadata": {},
     "output_type": "execute_result"
    }
   ],
   "source": [
    "plot(x_scale, H[:,2])"
   ]
  },
  {
   "cell_type": "code",
   "execution_count": 44,
   "metadata": {
    "collapsed": false
   },
   "outputs": [
    {
     "ename": "LoadError",
     "evalue": "LoadError: BoundsError\nwhile loading In[44], in expression starting on line 1",
     "output_type": "error",
     "traceback": [
      "LoadError: BoundsError\nwhile loading In[44], in expression starting on line 1",
      ""
     ]
    }
   ],
   "source": [
    "ice_thickness(\"Greenland_input.txt\", \"greenland\",0 , 20)"
   ]
  },
  {
   "cell_type": "markdown",
   "metadata": {},
   "source": [
    "$$\\frac{\\partial H}{\\partial t} = \\dot a - \\nabla(\\vec u H)$$\n",
    "\n",
    "$$\\frac{\\partial H}{\\partial t} = \\dot a - \\frac{\\partial \\vec u_d }{\\partial x} H - \\frac{\\partial u(b)}{\\partial x}H - \\big(\\vec u_d + u(b) \\big ) \\frac{\\partial H}{\\partial x}$$\n",
    "\n",
    "Si suponemos que no existe deslizamiento basal:"
   ]
  },
  {
   "cell_type": "markdown",
   "metadata": {},
   "source": [
    "$$\\frac{\\partial H}{\\partial t} = \\dot a - \\frac{\\partial \\vec u_d }{\\partial x} H - \\vec u_d \\frac{\\partial H}{\\partial x}$$"
   ]
  },
  {
   "cell_type": "code",
   "execution_count": 26,
   "metadata": {
    "collapsed": false
   },
   "outputs": [
    {
     "name": "stdout",
     "output_type": "stream",
     "text": [
      "12345678910"
     ]
    },
    {
     "data": {
      "text/plain": [
       "10"
      ]
     },
     "execution_count": 26,
     "metadata": {},
     "output_type": "execute_result"
    }
   ],
   "source": [
    "a = 0\n",
    "for i in 1:10\n",
    "    \n",
    "    a += 1\n",
    "    print(a)\n",
    "end\n",
    "a"
   ]
  },
  {
   "cell_type": "code",
   "execution_count": 38,
   "metadata": {
    "collapsed": false
   },
   "outputs": [
    {
     "data": {
      "text/plain": [
       "9"
      ]
     },
     "execution_count": 38,
     "metadata": {},
     "output_type": "execute_result"
    }
   ],
   "source": [
    "a = zeros(3,3)\n",
    "a[1,1] = 1\n",
    "a[2,2] = 2\n",
    "a[3,3] = 3\n",
    "a[2,1] = 9"
   ]
  },
  {
   "cell_type": "code",
   "execution_count": 39,
   "metadata": {
    "collapsed": false
   },
   "outputs": [
    {
     "data": {
      "text/plain": [
       "3x3 Array{Float64,2}:\n",
       " 1.0  0.0  0.0\n",
       " 9.0  2.0  0.0\n",
       " 0.0  0.0  3.0"
      ]
     },
     "execution_count": 39,
     "metadata": {},
     "output_type": "execute_result"
    }
   ],
   "source": [
    "a"
   ]
  },
  {
   "cell_type": "code",
   "execution_count": 40,
   "metadata": {
    "collapsed": false
   },
   "outputs": [
    {
     "data": {
      "text/plain": [
       "9.0"
      ]
     },
     "execution_count": 40,
     "metadata": {},
     "output_type": "execute_result"
    }
   ],
   "source": [
    "a[2,1]"
   ]
  },
  {
   "cell_type": "code",
   "execution_count": null,
   "metadata": {
    "collapsed": true
   },
   "outputs": [],
   "source": []
  }
 ],
 "metadata": {
  "kernelspec": {
   "display_name": "Julia 0.4.3",
   "language": "julia",
   "name": "julia-0.4"
  },
  "language_info": {
   "file_extension": ".jl",
   "mimetype": "application/julia",
   "name": "julia",
   "version": "0.4.3"
  }
 },
 "nbformat": 4,
 "nbformat_minor": 0
}
